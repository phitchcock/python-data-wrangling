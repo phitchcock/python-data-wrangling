{
 "cells": [
  {
   "cell_type": "code",
   "execution_count": 19,
   "metadata": {
    "collapsed": true
   },
   "outputs": [],
   "source": [
    "import numpy as np\n",
    "import pandas as pd\n",
    "import os\n",
    "import csv"
   ]
  },
  {
   "cell_type": "code",
   "execution_count": 20,
   "metadata": {
    "collapsed": true
   },
   "outputs": [],
   "source": [
    "DATADIR = \"\"\n",
    "DATAFILE = \"beatles-diskography.csv\""
   ]
  },
  {
   "cell_type": "code",
   "execution_count": 56,
   "metadata": {
    "collapsed": false
   },
   "outputs": [
    {
     "data": {
      "text/plain": [
       "[{'BPI Certification': 'Gold',\n",
       "  'Label': 'Parlophone(UK)',\n",
       "  'RIAA Certification': 'Platinum',\n",
       "  'Released': '22 March 1963',\n",
       "  'Title': 'Please Please Me',\n",
       "  'UK Chart Position': '1',\n",
       "  'US Chart Position': '-'},\n",
       " {'BPI Certification': 'Platinum',\n",
       "  'Label': 'Parlophone(UK)',\n",
       "  'RIAA Certification': 'Gold',\n",
       "  'Released': '22 November 1963',\n",
       "  'Title': 'With the Beatles',\n",
       "  'UK Chart Position': '1',\n",
       "  'US Chart Position': '-'},\n",
       " {'BPI Certification': '',\n",
       "  'Label': 'Capitol(CAN)',\n",
       "  'RIAA Certification': '',\n",
       "  'Released': '25 November 1963',\n",
       "  'Title': 'Beatlemania! With the Beatles',\n",
       "  'UK Chart Position': '-',\n",
       "  'US Chart Position': '-'},\n",
       " {'BPI Certification': '',\n",
       "  'Label': 'Vee-Jay(US)',\n",
       "  'RIAA Certification': '',\n",
       "  'Released': '10 January 1964',\n",
       "  'Title': 'Introducing... The Beatles',\n",
       "  'UK Chart Position': '-',\n",
       "  'US Chart Position': '2'},\n",
       " {'BPI Certification': '',\n",
       "  'Label': 'Capitol(US)',\n",
       "  'RIAA Certification': '5xPlatinum',\n",
       "  'Released': '20 January 1964',\n",
       "  'Title': 'Meet the Beatles!',\n",
       "  'UK Chart Position': '-',\n",
       "  'US Chart Position': '1'},\n",
       " {'BPI Certification': '',\n",
       "  'Label': 'Capitol(CAN)',\n",
       "  'RIAA Certification': '',\n",
       "  'Released': '3 February 1964',\n",
       "  'Title': 'Twist and Shout',\n",
       "  'UK Chart Position': '-',\n",
       "  'US Chart Position': '-'},\n",
       " {'BPI Certification': '',\n",
       "  'Label': 'Capitol(US)',\n",
       "  'RIAA Certification': '2xPlatinum',\n",
       "  'Released': '10 April 1964',\n",
       "  'Title': \"The Beatles' Second Album\",\n",
       "  'UK Chart Position': '-',\n",
       "  'US Chart Position': '1'},\n",
       " {'BPI Certification': '',\n",
       "  'Label': 'Capitol(CAN)',\n",
       "  'RIAA Certification': '',\n",
       "  'Released': '11 May 1964',\n",
       "  'Title': \"The Beatles' Long Tall Sally\",\n",
       "  'UK Chart Position': '-',\n",
       "  'US Chart Position': '-'},\n",
       " {'BPI Certification': '',\n",
       "  'Label': 'United Artists(US)[C]',\n",
       "  'RIAA Certification': '4xPlatinum',\n",
       "  'Released': '26 June 1964',\n",
       "  'Title': \"A Hard Day's Night\",\n",
       "  'UK Chart Position': '-',\n",
       "  'US Chart Position': '1'},\n",
       " {'BPI Certification': 'Gold',\n",
       "  'Label': 'Parlophone(UK)',\n",
       "  'RIAA Certification': '',\n",
       "  'Released': '10 July 1964',\n",
       "  'Title': '',\n",
       "  'UK Chart Position': '1',\n",
       "  'US Chart Position': '-'}]"
      ]
     },
     "execution_count": 56,
     "metadata": {},
     "output_type": "execute_result"
    }
   ],
   "source": [
    "def parse_file(datafile):\n",
    "    data = []\n",
    "    count = 0\n",
    "    with open(datafile, 'r') as f:\n",
    "        reader = csv.DictReader(f)\n",
    "        for line in reader:\n",
    "            if count <= 8:\n",
    "                data.append(line)\n",
    "                count = count + 1\n",
    "    \n",
    "    return data\n",
    "    \n",
    "parse_file(DATAFILE)"
   ]
  },
  {
   "cell_type": "code",
   "execution_count": null,
   "metadata": {
    "collapsed": true
   },
   "outputs": [],
   "source": []
  },
  {
   "cell_type": "code",
   "execution_count": null,
   "metadata": {
    "collapsed": true
   },
   "outputs": [],
   "source": []
  },
  {
   "cell_type": "code",
   "execution_count": null,
   "metadata": {
    "collapsed": true
   },
   "outputs": [],
   "source": []
  },
  {
   "cell_type": "code",
   "execution_count": 53,
   "metadata": {
    "collapsed": false
   },
   "outputs": [
    {
     "name": "stdout",
     "output_type": "stream",
     "text": [
      "{'Title': 'Please Please Me', 'UK Chart Position': '1', 'Label': 'Parlophone(UK)', 'Released': '22 March 1963', 'US Chart Position': '-', 'RIAA Certification': 'Platinum', 'BPI Certification': 'Gold'}\n",
      "{'Title': 'With the Beatles', 'UK Chart Position': '1', 'Label': 'Parlophone(UK)', 'Released': '22 November 1963', 'US Chart Position': '-', 'RIAA Certification': 'Gold', 'BPI Certification': 'Platinum'}\n",
      "{'Title': 'Beatlemania! With the Beatles', 'UK Chart Position': '-', 'Label': 'Capitol(CAN)', 'Released': '25 November 1963', 'US Chart Position': '-', 'RIAA Certification': '', 'BPI Certification': ''}\n",
      "{'Title': 'Introducing... The Beatles', 'UK Chart Position': '-', 'Label': 'Vee-Jay(US)', 'Released': '10 January 1964', 'US Chart Position': '2', 'RIAA Certification': '', 'BPI Certification': ''}\n",
      "{'Title': 'Meet the Beatles!', 'UK Chart Position': '-', 'Label': 'Capitol(US)', 'Released': '20 January 1964', 'US Chart Position': '1', 'RIAA Certification': '5xPlatinum', 'BPI Certification': ''}\n",
      "{'Title': 'Twist and Shout', 'UK Chart Position': '-', 'Label': 'Capitol(CAN)', 'Released': '3 February 1964', 'US Chart Position': '-', 'RIAA Certification': '', 'BPI Certification': ''}\n",
      "{'Title': \"The Beatles' Second Album\", 'UK Chart Position': '-', 'Label': 'Capitol(US)', 'Released': '10 April 1964', 'US Chart Position': '1', 'RIAA Certification': '2xPlatinum', 'BPI Certification': ''}\n",
      "{'Title': \"The Beatles' Long Tall Sally\", 'UK Chart Position': '-', 'Label': 'Capitol(CAN)', 'Released': '11 May 1964', 'US Chart Position': '-', 'RIAA Certification': '', 'BPI Certification': ''}\n",
      "{'Title': \"A Hard Day's Night\", 'UK Chart Position': '-', 'Label': 'United Artists(US)[C]', 'Released': '26 June 1964', 'US Chart Position': '1', 'RIAA Certification': '4xPlatinum', 'BPI Certification': ''}\n",
      "{'Title': '', 'UK Chart Position': '1', 'Label': 'Parlophone(UK)', 'Released': '10 July 1964', 'US Chart Position': '-', 'RIAA Certification': '', 'BPI Certification': 'Gold'}\n",
      "{'Title': 'Something New', 'UK Chart Position': '-', 'Label': 'Capitol(US)', 'Released': '20 July 1964', 'US Chart Position': '2', 'RIAA Certification': 'Platinum', 'BPI Certification': ''}\n",
      "{'Title': 'Beatles for Sale', 'UK Chart Position': '1', 'Label': 'Parlophone(UK)', 'Released': '4 December 1964', 'US Chart Position': '-', 'RIAA Certification': 'Platinum', 'BPI Certification': 'Gold'}\n",
      "{'Title': \"Beatles '65\", 'UK Chart Position': '-', 'Label': 'Capitol(US)', 'Released': '15 December 1964', 'US Chart Position': '1', 'RIAA Certification': '3xPlatinum', 'BPI Certification': ''}\n",
      "{'Title': 'Beatles VI', 'UK Chart Position': '-', 'Label': 'Parlophone(NZ), Capitol(US)', 'Released': '14 June 1965', 'US Chart Position': '1', 'RIAA Certification': 'Platinum', 'BPI Certification': ''}\n",
      "{'Title': 'Help!', 'UK Chart Position': '1', 'Label': 'Parlophone(UK)', 'Released': '6 August 1965', 'US Chart Position': '-', 'RIAA Certification': '', 'BPI Certification': 'Platinum'}\n",
      "{'Title': '', 'UK Chart Position': '-', 'Label': 'Capitol(US)[C]', 'Released': '13 August 1965', 'US Chart Position': '1', 'RIAA Certification': '3xPlatinum', 'BPI Certification': ''}\n",
      "{'Title': 'Rubber Soul', 'UK Chart Position': '1', 'Label': 'Parlophone(UK)', 'Released': '3 December 1965', 'US Chart Position': '-', 'RIAA Certification': '', 'BPI Certification': 'Platinum'}\n",
      "{'Title': '', 'UK Chart Position': '-', 'Label': 'Capitol(US)[C]', 'Released': '6 December 1965', 'US Chart Position': '1', 'RIAA Certification': '6xPlatinum', 'BPI Certification': ''}\n",
      "{'Title': 'Yesterday and Today', 'UK Chart Position': '-', 'Label': 'Capitol(US)', 'Released': '15 June 1966', 'US Chart Position': '1', 'RIAA Certification': '2xPlatinum', 'BPI Certification': ''}\n",
      "{'Title': 'Revolver', 'UK Chart Position': '1', 'Label': 'Parlophone(UK)', 'Released': '5 August 1966', 'US Chart Position': '-', 'RIAA Certification': '', 'BPI Certification': 'Platinum'}\n",
      "{'Title': '', 'UK Chart Position': '-', 'Label': 'Capitol(US)[C]', 'Released': '8 August 1966', 'US Chart Position': '1', 'RIAA Certification': '5xPlatinum', 'BPI Certification': ''}\n",
      "{'Title': \"Sgt. Pepper's Lonely Hearts Club Band\", 'UK Chart Position': '1', 'Label': 'Parlophone(UK), Capitol(US)', 'Released': '1 June 1967', 'US Chart Position': '1', 'RIAA Certification': '11xPlatinum', 'BPI Certification': '3xPlatinum'}\n",
      "{'Title': 'Magical Mystery Tour', 'UK Chart Position': '31[D]', 'Label': 'Parlophone(UK), Capitol(US)', 'Released': '27 November 1967', 'US Chart Position': '1', 'RIAA Certification': '6xPlatinum', 'BPI Certification': 'Platinum'}\n",
      "{'Title': 'The Beatles', 'UK Chart Position': '1', 'Label': 'Apple(UK), Capitol(US)', 'Released': '22 November 1968', 'US Chart Position': '1', 'RIAA Certification': '19xPlatinum', 'BPI Certification': 'Platinum'}\n",
      "{'Title': 'Yellow Submarine', 'UK Chart Position': '3', 'Label': 'Apple(UK), Capitol(US)', 'Released': '13 January 1969', 'US Chart Position': '2', 'RIAA Certification': 'Platinum', 'BPI Certification': 'Silver'}\n",
      "{'Title': 'Abbey Road', 'UK Chart Position': '1', 'Label': 'Apple(UK), Capitol(US)', 'Released': '26 September 1969', 'US Chart Position': '1', 'RIAA Certification': '12xPlatinum', 'BPI Certification': '2xPlatinum'}\n",
      "{'Title': 'Let It Be', 'UK Chart Position': '1', 'Label': 'Apple(UK),United Artists(US)', 'Released': '8 May 1970', 'US Chart Position': '1', 'RIAA Certification': '4xPlatinum', 'BPI Certification': 'Gold'}\n"
     ]
    },
    {
     "data": {
      "text/plain": [
       "[{'BPI Certification': 'Gold',\n",
       "  'Label': 'Parlophone(UK)',\n",
       "  'RIAA Certification': 'Platinum',\n",
       "  'Released': '22 March 1963',\n",
       "  'Title': 'Please Please Me',\n",
       "  'UK Chart Position': '1',\n",
       "  'US Chart Position': '-'},\n",
       " {'BPI Certification': 'Platinum',\n",
       "  'Label': 'Parlophone(UK)',\n",
       "  'RIAA Certification': 'Gold',\n",
       "  'Released': '22 November 1963',\n",
       "  'Title': 'With the Beatles',\n",
       "  'UK Chart Position': '1',\n",
       "  'US Chart Position': '-'},\n",
       " {'BPI Certification': '',\n",
       "  'Label': 'Capitol(CAN)',\n",
       "  'RIAA Certification': '',\n",
       "  'Released': '25 November 1963',\n",
       "  'Title': 'Beatlemania! With the Beatles',\n",
       "  'UK Chart Position': '-',\n",
       "  'US Chart Position': '-'},\n",
       " {'BPI Certification': '',\n",
       "  'Label': 'Vee-Jay(US)',\n",
       "  'RIAA Certification': '',\n",
       "  'Released': '10 January 1964',\n",
       "  'Title': 'Introducing... The Beatles',\n",
       "  'UK Chart Position': '-',\n",
       "  'US Chart Position': '2'},\n",
       " {'BPI Certification': '',\n",
       "  'Label': 'Capitol(US)',\n",
       "  'RIAA Certification': '5xPlatinum',\n",
       "  'Released': '20 January 1964',\n",
       "  'Title': 'Meet the Beatles!',\n",
       "  'UK Chart Position': '-',\n",
       "  'US Chart Position': '1'},\n",
       " {'BPI Certification': '',\n",
       "  'Label': 'Capitol(CAN)',\n",
       "  'RIAA Certification': '',\n",
       "  'Released': '3 February 1964',\n",
       "  'Title': 'Twist and Shout',\n",
       "  'UK Chart Position': '-',\n",
       "  'US Chart Position': '-'},\n",
       " {'BPI Certification': '',\n",
       "  'Label': 'Capitol(US)',\n",
       "  'RIAA Certification': '2xPlatinum',\n",
       "  'Released': '10 April 1964',\n",
       "  'Title': \"The Beatles' Second Album\",\n",
       "  'UK Chart Position': '-',\n",
       "  'US Chart Position': '1'},\n",
       " {'BPI Certification': '',\n",
       "  'Label': 'Capitol(CAN)',\n",
       "  'RIAA Certification': '',\n",
       "  'Released': '11 May 1964',\n",
       "  'Title': \"The Beatles' Long Tall Sally\",\n",
       "  'UK Chart Position': '-',\n",
       "  'US Chart Position': '-'},\n",
       " {'BPI Certification': '',\n",
       "  'Label': 'United Artists(US)[C]',\n",
       "  'RIAA Certification': '4xPlatinum',\n",
       "  'Released': '26 June 1964',\n",
       "  'Title': \"A Hard Day's Night\",\n",
       "  'UK Chart Position': '-',\n",
       "  'US Chart Position': '1'}]"
      ]
     },
     "execution_count": 53,
     "metadata": {},
     "output_type": "execute_result"
    }
   ],
   "source": [
    "parse_file(DATAFILE)"
   ]
  },
  {
   "cell_type": "code",
   "execution_count": null,
   "metadata": {
    "collapsed": true
   },
   "outputs": [],
   "source": []
  },
  {
   "cell_type": "code",
   "execution_count": 50,
   "metadata": {
    "collapsed": false
   },
   "outputs": [],
   "source": [
    "def test():\n",
    "    # a simple test of your implemetation\n",
    "    datafile = os.path.join(DATADIR, DATAFILE)\n",
    "    d = parse_file(datafile)\n",
    "    firstline = {'Title': 'Please Please Me', 'UK Chart Position': '1', 'Label': 'Parlophone(UK)', 'Released': '22 March 1963', 'US Chart Position': '-', 'RIAA Certification': 'Platinum', 'BPI Certification': 'Gold'}\n",
    "    tenthline = {'Title': '', 'UK Chart Position': '1', 'Label': 'Parlophone(UK)', 'Released': '10 July 1964', 'US Chart Position': '-', 'RIAA Certification': '', 'BPI Certification': 'Gold'}\n",
    "\n",
    "    assert d[0] == firstline\n",
    "    assert d[9] == tenthline"
   ]
  },
  {
   "cell_type": "code",
   "execution_count": 51,
   "metadata": {
    "collapsed": false
   },
   "outputs": [
    {
     "name": "stdout",
     "output_type": "stream",
     "text": [
      "{'Title': 'Please Please Me', 'UK Chart Position': '1', 'Label': 'Parlophone(UK)', 'Released': '22 March 1963', 'US Chart Position': '-', 'RIAA Certification': 'Platinum', 'BPI Certification': 'Gold'}\n",
      "{'Title': 'With the Beatles', 'UK Chart Position': '1', 'Label': 'Parlophone(UK)', 'Released': '22 November 1963', 'US Chart Position': '-', 'RIAA Certification': 'Gold', 'BPI Certification': 'Platinum'}\n",
      "{'Title': 'Beatlemania! With the Beatles', 'UK Chart Position': '-', 'Label': 'Capitol(CAN)', 'Released': '25 November 1963', 'US Chart Position': '-', 'RIAA Certification': '', 'BPI Certification': ''}\n",
      "{'Title': 'Introducing... The Beatles', 'UK Chart Position': '-', 'Label': 'Vee-Jay(US)', 'Released': '10 January 1964', 'US Chart Position': '2', 'RIAA Certification': '', 'BPI Certification': ''}\n",
      "{'Title': 'Meet the Beatles!', 'UK Chart Position': '-', 'Label': 'Capitol(US)', 'Released': '20 January 1964', 'US Chart Position': '1', 'RIAA Certification': '5xPlatinum', 'BPI Certification': ''}\n",
      "{'Title': 'Twist and Shout', 'UK Chart Position': '-', 'Label': 'Capitol(CAN)', 'Released': '3 February 1964', 'US Chart Position': '-', 'RIAA Certification': '', 'BPI Certification': ''}\n",
      "{'Title': \"The Beatles' Second Album\", 'UK Chart Position': '-', 'Label': 'Capitol(US)', 'Released': '10 April 1964', 'US Chart Position': '1', 'RIAA Certification': '2xPlatinum', 'BPI Certification': ''}\n",
      "{'Title': \"The Beatles' Long Tall Sally\", 'UK Chart Position': '-', 'Label': 'Capitol(CAN)', 'Released': '11 May 1964', 'US Chart Position': '-', 'RIAA Certification': '', 'BPI Certification': ''}\n",
      "{'Title': \"A Hard Day's Night\", 'UK Chart Position': '-', 'Label': 'United Artists(US)[C]', 'Released': '26 June 1964', 'US Chart Position': '1', 'RIAA Certification': '4xPlatinum', 'BPI Certification': ''}\n",
      "{'Title': '', 'UK Chart Position': '1', 'Label': 'Parlophone(UK)', 'Released': '10 July 1964', 'US Chart Position': '-', 'RIAA Certification': '', 'BPI Certification': 'Gold'}\n",
      "{'Title': 'Something New', 'UK Chart Position': '-', 'Label': 'Capitol(US)', 'Released': '20 July 1964', 'US Chart Position': '2', 'RIAA Certification': 'Platinum', 'BPI Certification': ''}\n",
      "{'Title': 'Beatles for Sale', 'UK Chart Position': '1', 'Label': 'Parlophone(UK)', 'Released': '4 December 1964', 'US Chart Position': '-', 'RIAA Certification': 'Platinum', 'BPI Certification': 'Gold'}\n",
      "{'Title': \"Beatles '65\", 'UK Chart Position': '-', 'Label': 'Capitol(US)', 'Released': '15 December 1964', 'US Chart Position': '1', 'RIAA Certification': '3xPlatinum', 'BPI Certification': ''}\n",
      "{'Title': 'Beatles VI', 'UK Chart Position': '-', 'Label': 'Parlophone(NZ), Capitol(US)', 'Released': '14 June 1965', 'US Chart Position': '1', 'RIAA Certification': 'Platinum', 'BPI Certification': ''}\n",
      "{'Title': 'Help!', 'UK Chart Position': '1', 'Label': 'Parlophone(UK)', 'Released': '6 August 1965', 'US Chart Position': '-', 'RIAA Certification': '', 'BPI Certification': 'Platinum'}\n",
      "{'Title': '', 'UK Chart Position': '-', 'Label': 'Capitol(US)[C]', 'Released': '13 August 1965', 'US Chart Position': '1', 'RIAA Certification': '3xPlatinum', 'BPI Certification': ''}\n",
      "{'Title': 'Rubber Soul', 'UK Chart Position': '1', 'Label': 'Parlophone(UK)', 'Released': '3 December 1965', 'US Chart Position': '-', 'RIAA Certification': '', 'BPI Certification': 'Platinum'}\n",
      "{'Title': '', 'UK Chart Position': '-', 'Label': 'Capitol(US)[C]', 'Released': '6 December 1965', 'US Chart Position': '1', 'RIAA Certification': '6xPlatinum', 'BPI Certification': ''}\n",
      "{'Title': 'Yesterday and Today', 'UK Chart Position': '-', 'Label': 'Capitol(US)', 'Released': '15 June 1966', 'US Chart Position': '1', 'RIAA Certification': '2xPlatinum', 'BPI Certification': ''}\n",
      "{'Title': 'Revolver', 'UK Chart Position': '1', 'Label': 'Parlophone(UK)', 'Released': '5 August 1966', 'US Chart Position': '-', 'RIAA Certification': '', 'BPI Certification': 'Platinum'}\n",
      "{'Title': '', 'UK Chart Position': '-', 'Label': 'Capitol(US)[C]', 'Released': '8 August 1966', 'US Chart Position': '1', 'RIAA Certification': '5xPlatinum', 'BPI Certification': ''}\n",
      "{'Title': \"Sgt. Pepper's Lonely Hearts Club Band\", 'UK Chart Position': '1', 'Label': 'Parlophone(UK), Capitol(US)', 'Released': '1 June 1967', 'US Chart Position': '1', 'RIAA Certification': '11xPlatinum', 'BPI Certification': '3xPlatinum'}\n",
      "{'Title': 'Magical Mystery Tour', 'UK Chart Position': '31[D]', 'Label': 'Parlophone(UK), Capitol(US)', 'Released': '27 November 1967', 'US Chart Position': '1', 'RIAA Certification': '6xPlatinum', 'BPI Certification': 'Platinum'}\n",
      "{'Title': 'The Beatles', 'UK Chart Position': '1', 'Label': 'Apple(UK), Capitol(US)', 'Released': '22 November 1968', 'US Chart Position': '1', 'RIAA Certification': '19xPlatinum', 'BPI Certification': 'Platinum'}\n",
      "{'Title': 'Yellow Submarine', 'UK Chart Position': '3', 'Label': 'Apple(UK), Capitol(US)', 'Released': '13 January 1969', 'US Chart Position': '2', 'RIAA Certification': 'Platinum', 'BPI Certification': 'Silver'}\n",
      "{'Title': 'Abbey Road', 'UK Chart Position': '1', 'Label': 'Apple(UK), Capitol(US)', 'Released': '26 September 1969', 'US Chart Position': '1', 'RIAA Certification': '12xPlatinum', 'BPI Certification': '2xPlatinum'}\n",
      "{'Title': 'Let It Be', 'UK Chart Position': '1', 'Label': 'Apple(UK),United Artists(US)', 'Released': '8 May 1970', 'US Chart Position': '1', 'RIAA Certification': '4xPlatinum', 'BPI Certification': 'Gold'}\n"
     ]
    }
   ],
   "source": [
    "test()"
   ]
  }
 ],
 "metadata": {
  "kernelspec": {
   "display_name": "Python 2",
   "language": "python",
   "name": "python2"
  },
  "language_info": {
   "codemirror_mode": {
    "name": "ipython",
    "version": 2
   },
   "file_extension": ".py",
   "mimetype": "text/x-python",
   "name": "python",
   "nbconvert_exporter": "python",
   "pygments_lexer": "ipython2",
   "version": "2.7.11"
  }
 },
 "nbformat": 4,
 "nbformat_minor": 0
}
